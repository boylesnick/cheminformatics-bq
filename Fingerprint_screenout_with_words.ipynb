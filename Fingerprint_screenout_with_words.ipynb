{
 "cells": [
  {
   "cell_type": "code",
   "execution_count": 1,
   "id": "eade795b-a357-402b-b237-a0c1a36f6e02",
   "metadata": {},
   "outputs": [],
   "source": [
    "import json\n",
    "from rdkit import Chem\n",
    "from rdkit.Chem import DataStructs"
   ]
  },
  {
   "cell_type": "code",
   "execution_count": 2,
   "id": "82357c1a-a27e-414c-804c-3320f6655353",
   "metadata": {},
   "outputs": [
    {
     "data": {
      "text/plain": [
       "[True, False]"
      ]
     },
     "execution_count": 2,
     "metadata": {},
     "output_type": "execute_result"
    }
   ],
   "source": [
    "ms = [Chem.MolFromSmiles(x) for x in ('Cc1ccccc1','Cc1ncccc1')]\n",
    "q = Chem.MolFromSmiles('c1ccccc1')\n",
    "[x.HasSubstructMatch(q) for x in ms]"
   ]
  },
  {
   "cell_type": "code",
   "execution_count": 3,
   "id": "73c5e8db-8aac-4510-be69-bd0804456ec3",
   "metadata": {},
   "outputs": [],
   "source": [
    "pfps = [Chem.PatternFingerprint(x,fpSize=1024,tautomerFingerprints=True) for x in ms]\n",
    "qfp = Chem.PatternFingerprint(q,fpSize=1024,tautomerFingerprints=True)"
   ]
  },
  {
   "cell_type": "code",
   "execution_count": 4,
   "id": "41a7f445-4045-424d-aeec-0d8cccfe0434",
   "metadata": {},
   "outputs": [
    {
     "data": {
      "text/plain": [
       "[True, False]"
      ]
     },
     "execution_count": 4,
     "metadata": {},
     "output_type": "execute_result"
    }
   ],
   "source": [
    "[x&qfp == qfp for x in pfps]"
   ]
  },
  {
   "cell_type": "code",
   "execution_count": 5,
   "id": "7fc46ab2-aed3-451b-9412-bd8aedf29fba",
   "metadata": {},
   "outputs": [],
   "source": [
    "def convert_bv_to_64bit_ints(fp):\n",
    "    ''' use a combination of RDKit+python functionality to convert a\n",
    "    fingerprint into a list of 64bit ints \n",
    "    '''\n",
    "    qt = DataStructs.BitVectToBinaryText(fp)\n",
    "    words = [int.from_bytes(qt[i:i+8],'big', signed=True) for i in range(0,len(qt),8)]\n",
    "    return words"
   ]
  },
  {
   "cell_type": "code",
   "execution_count": 6,
   "id": "973d5bdf-abab-43dc-975b-40d977d23242",
   "metadata": {},
   "outputs": [],
   "source": [
    "qwords = convert_bv_to_64bit_ints(qfp)\n",
    "pwords = [convert_bv_to_64bit_ints(x) for x in pfps]"
   ]
  },
  {
   "cell_type": "code",
   "execution_count": 7,
   "id": "52f725a6-a56d-40c0-97ac-9f243261e168",
   "metadata": {},
   "outputs": [
    {
     "data": {
      "text/plain": [
       "[True, False]"
      ]
     },
     "execution_count": 7,
     "metadata": {},
     "output_type": "execute_result"
    }
   ],
   "source": [
    "[all(x&y==y for x,y in zip(pw,qwords)) for pw in pwords]"
   ]
  },
  {
   "cell_type": "code",
   "execution_count": 8,
   "id": "ac891b3b-db2f-4d9b-bdd0-843a03acda9d",
   "metadata": {},
   "outputs": [
    {
     "data": {
      "text/plain": [
       "[562950490292224,\n",
       " 0,\n",
       " 589971826065539072,\n",
       " 17601849720832,\n",
       " 36028797018963968,\n",
       " 524288,\n",
       " 6919499369660154882,\n",
       " 37383395344392,\n",
       " 38280597906391040,\n",
       " -9223372036850450432,\n",
       " 140737488355392,\n",
       " 268435456,\n",
       " 316796787752960,\n",
       " 137438953472,\n",
       " 290482210325135424,\n",
       " -8642407684780851136]"
      ]
     },
     "execution_count": 8,
     "metadata": {},
     "output_type": "execute_result"
    }
   ],
   "source": [
    "qwords"
   ]
  },
  {
   "cell_type": "code",
   "execution_count": 9,
   "id": "a0cf5b99-fb0c-47ca-b63c-e21a10a0aca2",
   "metadata": {},
   "outputs": [
    {
     "data": {
      "text/plain": [
       "[True,\n",
       " True,\n",
       " True,\n",
       " True,\n",
       " True,\n",
       " True,\n",
       " True,\n",
       " True,\n",
       " True,\n",
       " True,\n",
       " True,\n",
       " True,\n",
       " True,\n",
       " False,\n",
       " True,\n",
       " True]"
      ]
     },
     "execution_count": 9,
     "metadata": {},
     "output_type": "execute_result"
    }
   ],
   "source": [
    "[x&y==y for x,y in zip(pwords[1], qwords)]"
   ]
  },
  {
   "cell_type": "code",
   "execution_count": 10,
   "id": "81ec6d5e-f7f4-4768-a966-3c0ce666a7a2",
   "metadata": {},
   "outputs": [
    {
     "data": {
      "text/plain": [
       "[4612250068429307904,\n",
       " 1152930438407258112,\n",
       " 590257699659710464,\n",
       " 17878875111424,\n",
       " 630503947831934976,\n",
       " 158330748665864,\n",
       " 6919499369660683282,\n",
       " 37400575475720,\n",
       " 110338192481210376,\n",
       " -9223372034702966656,\n",
       " 36169569974485568,\n",
       " 268435472,\n",
       " 1442705292918816,\n",
       " 35218774310912,\n",
       " 290552596250361920,\n",
       " -8641827142607830976]"
      ]
     },
     "execution_count": 10,
     "metadata": {},
     "output_type": "execute_result"
    }
   ],
   "source": [
    "pwords[1]"
   ]
  },
  {
   "cell_type": "code",
   "execution_count": 11,
   "id": "1cc2d1a0-de4a-4e82-8ed0-bd7259181e75",
   "metadata": {},
   "outputs": [
    {
     "data": {
      "text/plain": [
       "[562950490292224,\n",
       " 0,\n",
       " 589971826065539072,\n",
       " 17601849720832,\n",
       " 36028797018963968,\n",
       " 524288,\n",
       " 6919499369660154882,\n",
       " 37383395344392,\n",
       " 38280597906391040,\n",
       " -9223372036850450432,\n",
       " 140737488355392,\n",
       " 268435456,\n",
       " 316796787752960,\n",
       " 137438953472,\n",
       " 290482210325135424,\n",
       " -8642407684780851136]"
      ]
     },
     "execution_count": 11,
     "metadata": {},
     "output_type": "execute_result"
    }
   ],
   "source": [
    "qwords"
   ]
  },
  {
   "cell_type": "code",
   "execution_count": 12,
   "id": "ea8702a6-45b7-4c51-a1c1-c0a169aa6520",
   "metadata": {},
   "outputs": [
    {
     "data": {
      "text/plain": [
       "[562950490292224,\n",
       " 0,\n",
       " 589971826065539072,\n",
       " 17601849720832,\n",
       " 36028797018963968,\n",
       " 524288,\n",
       " 6919499369660154882,\n",
       " 37383395344392,\n",
       " 38280597906391040,\n",
       " -9223372036850450432,\n",
       " 140737488355392,\n",
       " 268435456,\n",
       " 316796787752960,\n",
       " 137438953472,\n",
       " 290482210325135424,\n",
       " -8642407684780851136]"
      ]
     },
     "execution_count": 12,
     "metadata": {},
     "output_type": "execute_result"
    }
   ],
   "source": [
    "qwords"
   ]
  },
  {
   "cell_type": "code",
   "execution_count": 14,
   "id": "3ef743ea-21e5-4c56-95b9-46dc98aa1d95",
   "metadata": {},
   "outputs": [],
   "source": [
    "z={}\n",
    "z[\"as_ints\"]=qwords"
   ]
  },
  {
   "cell_type": "code",
   "execution_count": 15,
   "id": "800377c2-7a42-4bd1-a452-f13f62ac489f",
   "metadata": {},
   "outputs": [
    {
     "data": {
      "text/plain": [
       "{'as_ints': [562950490292224,\n",
       "  0,\n",
       "  589971826065539072,\n",
       "  17601849720832,\n",
       "  36028797018963968,\n",
       "  524288,\n",
       "  6919499369660154882,\n",
       "  37383395344392,\n",
       "  38280597906391040,\n",
       "  -9223372036850450432,\n",
       "  140737488355392,\n",
       "  268435456,\n",
       "  316796787752960,\n",
       "  137438953472,\n",
       "  290482210325135424,\n",
       "  -8642407684780851136]}"
      ]
     },
     "execution_count": 15,
     "metadata": {},
     "output_type": "execute_result"
    }
   ],
   "source": [
    "z"
   ]
  },
  {
   "cell_type": "code",
   "execution_count": 16,
   "id": "6044d915-ead2-4e5b-9cde-0a9a722c12e4",
   "metadata": {},
   "outputs": [
    {
     "data": {
      "text/plain": [
       "'{\"as_ints\": [562950490292224, 0, 589971826065539072, 17601849720832, 36028797018963968, 524288, 6919499369660154882, 37383395344392, 38280597906391040, -9223372036850450432, 140737488355392, 268435456, 316796787752960, 137438953472, 290482210325135424, -8642407684780851136]}'"
      ]
     },
     "execution_count": 16,
     "metadata": {},
     "output_type": "execute_result"
    }
   ],
   "source": [
    "json.dumps(z)"
   ]
  },
  {
   "cell_type": "code",
   "execution_count": null,
   "id": "e8e76e5e-c467-47b8-8c59-57cec38dab89",
   "metadata": {},
   "outputs": [],
   "source": []
  }
 ],
 "metadata": {
  "environment": {
   "kernel": "python3",
   "name": "common-cpu.m95",
   "type": "gcloud",
   "uri": "gcr.io/deeplearning-platform-release/base-cpu:m95"
  },
  "kernelspec": {
   "display_name": "Python 3",
   "language": "python",
   "name": "python3"
  },
  "language_info": {
   "codemirror_mode": {
    "name": "ipython",
    "version": 3
   },
   "file_extension": ".py",
   "mimetype": "text/x-python",
   "name": "python",
   "nbconvert_exporter": "python",
   "pygments_lexer": "ipython3",
   "version": "3.7.12"
  }
 },
 "nbformat": 4,
 "nbformat_minor": 5
}
