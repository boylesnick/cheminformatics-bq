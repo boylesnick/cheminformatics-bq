{
 "cells": [
  {
   "cell_type": "code",
   "execution_count": 35,
   "id": "555f7f3d-33af-49ff-bd3c-de82dbccb3a2",
   "metadata": {},
   "outputs": [
    {
     "name": "stderr",
     "output_type": "stream",
     "text": [
      "Query complete after 0.00s: 100%|██████████| 1/1 [00:00<00:00, 941.27query/s] \n"
     ]
    },
    {
     "data": {
      "text/html": [
       "<div>\n",
       "<style scoped>\n",
       "    .dataframe tbody tr th:only-of-type {\n",
       "        vertical-align: middle;\n",
       "    }\n",
       "\n",
       "    .dataframe tbody tr th {\n",
       "        vertical-align: top;\n",
       "    }\n",
       "\n",
       "    .dataframe thead th {\n",
       "        text-align: right;\n",
       "    }\n",
       "</style>\n",
       "<table border=\"1\" class=\"dataframe\">\n",
       "  <thead>\n",
       "    <tr style=\"text-align: right;\">\n",
       "      <th></th>\n",
       "    </tr>\n",
       "  </thead>\n",
       "  <tbody>\n",
       "  </tbody>\n",
       "</table>\n",
       "</div>"
      ],
      "text/plain": [
       "Empty DataFrame\n",
       "Columns: []\n",
       "Index: []"
      ]
     },
     "execution_count": 35,
     "metadata": {},
     "output_type": "execute_result"
    }
   ],
   "source": [
    "%%bigquery\n",
    "\n",
    "BEGIN\n",
    "\n",
    "CREATE SCHEMA sample_data;\n",
    "\n",
    "create or replace table `sample_data.smiles` as\n",
    "(\n",
    "SELECT product_smiles as smiles,\n",
    "from `nih-nci-cbiit-chem-prod.savi.plus` \n",
    "where rand() < 0.001\n",
    ");\n",
    "\n",
    "END"
   ]
  },
  {
   "cell_type": "code",
   "execution_count": 30,
   "id": "03f12245-8607-47e6-b841-095130f37d0e",
   "metadata": {},
   "outputs": [
    {
     "name": "stderr",
     "output_type": "stream",
     "text": [
      "Query complete after 0.00s: 100%|██████████| 1/1 [00:00<00:00, 735.97query/s] \n"
     ]
    },
    {
     "data": {
      "text/html": [
       "<div>\n",
       "<style scoped>\n",
       "    .dataframe tbody tr th:only-of-type {\n",
       "        vertical-align: middle;\n",
       "    }\n",
       "\n",
       "    .dataframe tbody tr th {\n",
       "        vertical-align: top;\n",
       "    }\n",
       "\n",
       "    .dataframe thead th {\n",
       "        text-align: right;\n",
       "    }\n",
       "</style>\n",
       "<table border=\"1\" class=\"dataframe\">\n",
       "  <thead>\n",
       "    <tr style=\"text-align: right;\">\n",
       "      <th></th>\n",
       "    </tr>\n",
       "  </thead>\n",
       "  <tbody>\n",
       "  </tbody>\n",
       "</table>\n",
       "</div>"
      ],
      "text/plain": [
       "Empty DataFrame\n",
       "Columns: []\n",
       "Index: []"
      ]
     },
     "execution_count": 30,
     "metadata": {},
     "output_type": "execute_result"
    }
   ],
   "source": [
    "%%bigquery\n",
    "\n",
    "CREATE SCHEMA exports;"
   ]
  },
  {
   "cell_type": "code",
   "execution_count": 19,
   "id": "94408989-4af3-402f-983e-10a2288b5689",
   "metadata": {},
   "outputs": [
    {
     "name": "stderr",
     "output_type": "stream",
     "text": [
      "Query complete after 0.00s: 100%|██████████| 3/3 [00:00<00:00, 1583.55query/s]                        "
     ]
    },
    {
     "name": "stdout",
     "output_type": "stream",
     "text": [
      "42 s ± 0 ns per loop (mean ± std. dev. of 1 run, 2 loops each)\n"
     ]
    },
    {
     "name": "stderr",
     "output_type": "stream",
     "text": [
      "\n"
     ]
    }
   ],
   "source": [
    "%%timeit -n 2 -r 1\n",
    "\n",
    "%%bigquery \n",
    "\n",
    "create or replace table `exports.savi_fp_json` as\n",
    "(\n",
    "SELECT smiles,\n",
    "`cheminformatics_test.rdkit_pattern_fingerprint_test`(smiles) as fingerprint_json,\n",
    "`cheminformatics_test.rdkit_molecular_descriptors`(smiles) as molecular_descriptors_json\n",
    "from `sample_data.smiles_bin_parted` \n",
    ")"
   ]
  },
  {
   "cell_type": "code",
   "execution_count": 4,
   "id": "b0c6f5c3-a45f-4561-afa2-d0b9df7ab291",
   "metadata": {},
   "outputs": [
    {
     "name": "stderr",
     "output_type": "stream",
     "text": [
      "Query complete after 0.00s: 100%|██████████| 3/3 [00:00<00:00, 1337.75query/s]                        \n"
     ]
    },
    {
     "data": {
      "text/html": [
       "<div>\n",
       "<style scoped>\n",
       "    .dataframe tbody tr th:only-of-type {\n",
       "        vertical-align: middle;\n",
       "    }\n",
       "\n",
       "    .dataframe tbody tr th {\n",
       "        vertical-align: top;\n",
       "    }\n",
       "\n",
       "    .dataframe thead th {\n",
       "        text-align: right;\n",
       "    }\n",
       "</style>\n",
       "<table border=\"1\" class=\"dataframe\">\n",
       "  <thead>\n",
       "    <tr style=\"text-align: right;\">\n",
       "      <th></th>\n",
       "    </tr>\n",
       "  </thead>\n",
       "  <tbody>\n",
       "  </tbody>\n",
       "</table>\n",
       "</div>"
      ],
      "text/plain": [
       "Empty DataFrame\n",
       "Columns: []\n",
       "Index: []"
      ]
     },
     "execution_count": 4,
     "metadata": {},
     "output_type": "execute_result"
    }
   ],
   "source": [
    "%%bigquery \n",
    "\n",
    "create or replace table `exports.savi_molecular_descriptors_json` as\n",
    "(\n",
    "SELECT smiles,\n",
    "`cheminformatics_test.rdkit_molecular_descriptors`(smiles) as molecular_descriptors_json\n",
    "from `sample_data.smiles_bin_parted` \n",
    ")"
   ]
  },
  {
   "cell_type": "code",
   "execution_count": 20,
   "id": "2455475c-07cd-4492-8c19-4c21d8af9895",
   "metadata": {},
   "outputs": [
    {
     "name": "stderr",
     "output_type": "stream",
     "text": [
      "Query complete after 0.00s: 100%|██████████| 5/5 [00:00<00:00, 2578.89query/s]                        "
     ]
    },
    {
     "name": "stdout",
     "output_type": "stream",
     "text": [
      "25.9 s ± 0 ns per loop (mean ± std. dev. of 1 run, 2 loops each)\n"
     ]
    },
    {
     "name": "stderr",
     "output_type": "stream",
     "text": [
      "\n"
     ]
    }
   ],
   "source": [
    "%%timeit -n 2 -r 1\n",
    "\n",
    "%%bigquery\n",
    "\n",
    "create or replace table `exports.savi_fp_mol_descriptors_clustered`\n",
    "cluster by num_carbon, num_nitrogen, num_oxygen, num_fluorine\n",
    "as\n",
    "(\n",
    "SELECT smiles,\n",
    "FROM_HEX(JSON_VALUE(fingerprint_json, '$.fp_pattern_long_as_binary_hex'))  as fp_pattern_as_binary,\n",
    "FROM_HEX(JSON_VALUE(fingerprint_json, '$.fp_morgan_as_binary_hex'))  as fp_morgan_as_binary,\n",
    "CAST(JSON_VALUE(fingerprint_json, \"$.num_carbon\") as INT64) as num_carbon,\n",
    "CAST(JSON_VALUE(fingerprint_json, \"$.num_oxygen\") as INT64) as num_oxygen,\n",
    "CAST(JSON_VALUE(fingerprint_json, \"$.num_nitrogen\") as INT64) as num_nitrogen,\n",
    "CAST(JSON_VALUE(fingerprint_json, \"$.num_fluorine\") as INT64) as num_fluorine,\n",
    "CAST(JSON_VALUE(fingerprint_json, \"$.num_sulfur\") as INT64) as num_sulfur,\n",
    "CAST(JSON_VALUE(molecular_descriptors_json, \"$.ExactMolWt\") as FLOAT64 ) as exact_mol_wt,\n",
    "CAST(JSON_VALUE(molecular_descriptors_json, \"$.FractionCSP3\") as FLOAT64 ) as fraction_csp3,\n",
    "CAST(JSON_VALUE(molecular_descriptors_json, \"$.BalabanJ\") as FLOAT64 ) as balabanj,\n",
    "CAST(JSON_VALUE(molecular_descriptors_json, \"$.BertzCT\") as FLOAT64 ) as bertzct,\n",
    "CAST(JSON_VALUE(molecular_descriptors_json, \"$.HallKierAlpha\") as FLOAT64 ) as hallkieralpha,\n",
    "CAST(JSON_VALUE(molecular_descriptors_json, \"$.HeavyAtomMolWt\") as FLOAT64 ) as heavy_atom_mol_wt,\n",
    "CAST(JSON_VALUE(molecular_descriptors_json, \"$.MaxAbsPartialCharge\") as FLOAT64 ) as max_abs_partial_charge,\n",
    "CAST(JSON_VALUE(molecular_descriptors_json, \"$.MaxPartialCharge\") as FLOAT64 ) as max_partial_charge,\n",
    "CAST(JSON_VALUE(molecular_descriptors_json, \"$.MolLogP\") as FLOAT64 ) as mol_logp,\n",
    "CAST(JSON_VALUE(molecular_descriptors_json, \"$.MolMR\") as FLOAT64 ) as mol_mr,\n",
    "CAST(JSON_VALUE(molecular_descriptors_json, \"$.HeavyAtomCount\") as INT64 ) as heavy_atom_count,\n",
    "CAST(JSON_VALUE(molecular_descriptors_json, \"$.NumAliphaticRings\") as INT64 ) as num_aliphatic_rings,\n",
    "CAST(JSON_VALUE(molecular_descriptors_json, \"$.NHOHCount\") as INT64 ) as nhoh_count,\n",
    "CAST(JSON_VALUE(molecular_descriptors_json, \"$.NOCount\") as INT64 ) as no_count,\n",
    "CAST(JSON_VALUE(molecular_descriptors_json, \"$.NumAliphaticCarbocycles\") as INT64 ) as num_alpiphatic_carbocycles,\n",
    "CAST(JSON_VALUE(molecular_descriptors_json, \"$.NumAliphaticHeterocycles\") as INT64 ) as num_aliphatic_heterocycles,\n",
    "CAST(JSON_VALUE(molecular_descriptors_json, \"$.NumAromaticCarbocycles\") as INT64 ) as num_aromatic_carbocycles,\n",
    "CAST(JSON_VALUE(molecular_descriptors_json, \"$.NumAromaticHeterocycles\") as INT64 ) as num_aromatic_heterocycles,\n",
    "CAST(JSON_VALUE(molecular_descriptors_json, \"$.NumAromaticRings\") as INT64 ) as num_aromatic_rings,\n",
    "CAST(JSON_VALUE(molecular_descriptors_json, \"$.NumHAcceptors\") as INT64 ) as num_h_acceptors,\n",
    "CAST(JSON_VALUE(molecular_descriptors_json, \"$.NumHDonors\") as INT64 ) as num_h_donors,\n",
    "CAST(JSON_VALUE(molecular_descriptors_json, \"$.NumHeteroatoms\") as INT64 ) as num_hetero_atoms,\n",
    "CAST(JSON_VALUE(molecular_descriptors_json, \"$.NumRadicalElectrons\") as INT64 ) as num_radical_electrons,\n",
    "CAST(JSON_VALUE(molecular_descriptors_json, \"$.NumRotatableBonds\") as INT64 ) as num_rotatable_bonds,\n",
    "CAST(JSON_VALUE(molecular_descriptors_json, \"$.NumSaturatedCarbocycles\") as INT64 ) as num_saturated_carbocycles,\n",
    "CAST(JSON_VALUE(molecular_descriptors_json, \"$.NumSaturatedHeterocycles\") as INT64 ) as num_saturated_heterocycles,\n",
    "CAST(JSON_VALUE(molecular_descriptors_json, \"$.NumSaturatedRings\") as INT64 ) as num_saturated_rings,\n",
    "CAST(JSON_VALUE(molecular_descriptors_json, \"$.NumValenceElectrons\") as INT64 ) as num_valence_electrons\n",
    "from `exports.savi_fp_json` where fingerprint_json != \"\" and molecular_descriptors_json != \"\"\n",
    ")"
   ]
  },
  {
   "cell_type": "markdown",
   "id": "7ba16d9f-4f9a-4c27-a766-0bb3103c7b6a",
   "metadata": {},
   "source": [
    "Substructure Search Stored Procedure explicitly queries savi_fp_clustered. Should probably be an input parameter. But for now, this call simply works"
   ]
  },
  {
   "cell_type": "code",
   "execution_count": 24,
   "id": "573e41e0-99ab-43d6-8d9a-65ce08370205",
   "metadata": {},
   "outputs": [
    {
     "name": "stderr",
     "output_type": "stream",
     "text": [
      "Query complete after 0.00s: 100%|██████████| 1/1 [00:00<00:00, 1103.76query/s]\n",
      "Downloading: 100%|██████████| 2434/2434 [00:02<00:00, 1088.75rows/s]"
     ]
    },
    {
     "name": "stdout",
     "output_type": "stream",
     "text": [
      "15.8 s ± 0 ns per loop (mean ± std. dev. of 1 run, 2 loops each)\n"
     ]
    },
    {
     "name": "stderr",
     "output_type": "stream",
     "text": [
      "\n"
     ]
    }
   ],
   "source": [
    "%%timeit -n 2 -r 1\n",
    "\n",
    "%%bigquery df\n",
    "\n",
    "CALL `cheminformatics_test.substructure_search`(\"CCCCCCCCCCCC\");"
   ]
  },
  {
   "cell_type": "code",
   "execution_count": 25,
   "id": "c30c6e26-f4ab-4631-b567-34f3008dcd6e",
   "metadata": {},
   "outputs": [
    {
     "data": {
      "text/html": [
       "<div>\n",
       "<style scoped>\n",
       "    .dataframe tbody tr th:only-of-type {\n",
       "        vertical-align: middle;\n",
       "    }\n",
       "\n",
       "    .dataframe tbody tr th {\n",
       "        vertical-align: top;\n",
       "    }\n",
       "\n",
       "    .dataframe thead th {\n",
       "        text-align: right;\n",
       "    }\n",
       "</style>\n",
       "<table border=\"1\" class=\"dataframe\">\n",
       "  <thead>\n",
       "    <tr style=\"text-align: right;\">\n",
       "      <th></th>\n",
       "      <th>smiles</th>\n",
       "    </tr>\n",
       "  </thead>\n",
       "  <tbody>\n",
       "    <tr>\n",
       "      <th>0</th>\n",
       "      <td>OC1CCC=C1CCCC(CCC)O</td>\n",
       "    </tr>\n",
       "    <tr>\n",
       "      <th>1</th>\n",
       "      <td>C1(=CCCC1)CC3[C@H]2C[C@H](C2(C)C)C[C@@H]3O</td>\n",
       "    </tr>\n",
       "    <tr>\n",
       "      <th>2</th>\n",
       "      <td>O(CC=C)CCCCCCCCCCCC</td>\n",
       "    </tr>\n",
       "    <tr>\n",
       "      <th>3</th>\n",
       "      <td>NC1C(=CCC1)CC3[C@H]2C[C@H](C2(C)C)C[C@@H]3O</td>\n",
       "    </tr>\n",
       "    <tr>\n",
       "      <th>4</th>\n",
       "      <td>C[C@@H](NC(=O)C4C1C2CC5C3CC(C1C23)C45)CF</td>\n",
       "    </tr>\n",
       "    <tr>\n",
       "      <th>...</th>\n",
       "      <td>...</td>\n",
       "    </tr>\n",
       "    <tr>\n",
       "      <th>2429</th>\n",
       "      <td>COC(=O)C[S](=O)(=O)CCC(=O)OCC(CCCCCCCCCCCC)C</td>\n",
       "    </tr>\n",
       "    <tr>\n",
       "      <th>2430</th>\n",
       "      <td>N(CCCCCCCCCCCC(=O)O)[S](C1=CC2=C(C=C1)CC[S]2(=...</td>\n",
       "    </tr>\n",
       "    <tr>\n",
       "      <th>2431</th>\n",
       "      <td>N(CCCCCCCCCCCC(=O)O)[S](C1=C(C=C(C(O)=O)C=C1)C...</td>\n",
       "    </tr>\n",
       "    <tr>\n",
       "      <th>2432</th>\n",
       "      <td>O(C(=O)C[S](=O)(=O)C1=CC=C(C=C1)[N](=O)=O)CCC(...</td>\n",
       "    </tr>\n",
       "    <tr>\n",
       "      <th>2433</th>\n",
       "      <td>N(CCCCCCCCCCCC(=O)O)[S](C1=CC(=C(C=C1[S](=O)(=...</td>\n",
       "    </tr>\n",
       "  </tbody>\n",
       "</table>\n",
       "<p>2434 rows × 1 columns</p>\n",
       "</div>"
      ],
      "text/plain": [
       "                                                 smiles\n",
       "0                                   OC1CCC=C1CCCC(CCC)O\n",
       "1            C1(=CCCC1)CC3[C@H]2C[C@H](C2(C)C)C[C@@H]3O\n",
       "2                                   O(CC=C)CCCCCCCCCCCC\n",
       "3           NC1C(=CCC1)CC3[C@H]2C[C@H](C2(C)C)C[C@@H]3O\n",
       "4              C[C@@H](NC(=O)C4C1C2CC5C3CC(C1C23)C45)CF\n",
       "...                                                 ...\n",
       "2429       COC(=O)C[S](=O)(=O)CCC(=O)OCC(CCCCCCCCCCCC)C\n",
       "2430  N(CCCCCCCCCCCC(=O)O)[S](C1=CC2=C(C=C1)CC[S]2(=...\n",
       "2431  N(CCCCCCCCCCCC(=O)O)[S](C1=C(C=C(C(O)=O)C=C1)C...\n",
       "2432  O(C(=O)C[S](=O)(=O)C1=CC=C(C=C1)[N](=O)=O)CCC(...\n",
       "2433  N(CCCCCCCCCCCC(=O)O)[S](C1=CC(=C(C=C1[S](=O)(=...\n",
       "\n",
       "[2434 rows x 1 columns]"
      ]
     },
     "execution_count": 25,
     "metadata": {},
     "output_type": "execute_result"
    }
   ],
   "source": [
    "df"
   ]
  },
  {
   "cell_type": "code",
   "execution_count": 12,
   "id": "b1caa01d-cfef-4ba5-8fa4-61faf9a417aa",
   "metadata": {},
   "outputs": [
    {
     "name": "stderr",
     "output_type": "stream",
     "text": [
      "Query complete after 0.00s: 100%|██████████| 1/1 [00:00<00:00, 761.91query/s] \n",
      "Downloading: 100%|██████████| 13/13 [00:01<00:00,  6.57rows/s]\n"
     ]
    }
   ],
   "source": [
    "%%bigquery df\n",
    "\n",
    "CALL `cheminformatics_test.morgan_similarity`(\"C[C@@H](CC(=C)C)C(=O)OCC1[C@@H]2COC[C@H]12\");"
   ]
  },
  {
   "cell_type": "code",
   "execution_count": 13,
   "id": "56239196-ed51-4d37-bed1-c7b7f0eef1f5",
   "metadata": {},
   "outputs": [
    {
     "data": {
      "text/html": [
       "<div>\n",
       "<style scoped>\n",
       "    .dataframe tbody tr th:only-of-type {\n",
       "        vertical-align: middle;\n",
       "    }\n",
       "\n",
       "    .dataframe tbody tr th {\n",
       "        vertical-align: top;\n",
       "    }\n",
       "\n",
       "    .dataframe thead th {\n",
       "        text-align: right;\n",
       "    }\n",
       "</style>\n",
       "<table border=\"1\" class=\"dataframe\">\n",
       "  <thead>\n",
       "    <tr style=\"text-align: right;\">\n",
       "      <th></th>\n",
       "      <th>smiles</th>\n",
       "    </tr>\n",
       "  </thead>\n",
       "  <tbody>\n",
       "    <tr>\n",
       "      <th>0</th>\n",
       "      <td>C[C@@H](CC(=C)C)C(=O)OCC1CCNC1</td>\n",
       "    </tr>\n",
       "    <tr>\n",
       "      <th>1</th>\n",
       "      <td>O(CC1[C@@H]2COC[C@H]12)C(C3=C(C)C=C(S3)F)=O</td>\n",
       "    </tr>\n",
       "    <tr>\n",
       "      <th>2</th>\n",
       "      <td>C[C@@H](CC(=C)C)C(=O)OCC1CCN(C)C1</td>\n",
       "    </tr>\n",
       "    <tr>\n",
       "      <th>3</th>\n",
       "      <td>O(C(=O)CC1(CC1)C2CC2)CC3[C@@H]4COC[C@H]34</td>\n",
       "    </tr>\n",
       "    <tr>\n",
       "      <th>4</th>\n",
       "      <td>O(C(=O)C1(CCl)CCCCC1)CC2[C@@H]3COC[C@H]23</td>\n",
       "    </tr>\n",
       "    <tr>\n",
       "      <th>5</th>\n",
       "      <td>O(C(=O)CN1CCCCCC1)CC2[C@@H]3COC[C@H]23</td>\n",
       "    </tr>\n",
       "    <tr>\n",
       "      <th>6</th>\n",
       "      <td>O(CC1[C@@H]2COC[C@H]12)C(C3=C[N](C(C)C)N=C3C)=O</td>\n",
       "    </tr>\n",
       "    <tr>\n",
       "      <th>7</th>\n",
       "      <td>O(C(=O)C(=O)C1CCCCC1)CC2[C@@H]3COC[C@H]23</td>\n",
       "    </tr>\n",
       "    <tr>\n",
       "      <th>8</th>\n",
       "      <td>CC(C)O[C@@H]1COC[C@H]1OC(C(C)CC(=C)C)=O</td>\n",
       "    </tr>\n",
       "    <tr>\n",
       "      <th>9</th>\n",
       "      <td>O(CC1[C@@H]2COC[C@H]12)C(CC3(CC(OC)=O)CCCC3)=O</td>\n",
       "    </tr>\n",
       "    <tr>\n",
       "      <th>10</th>\n",
       "      <td>O(CC1[C@@H]2COC[C@H]12)C(C3=CC=C(C(C)(C)C)[NH]...</td>\n",
       "    </tr>\n",
       "    <tr>\n",
       "      <th>11</th>\n",
       "      <td>C[C@H](OC1=CC=C(C=C1)I)C(=O)OCC2[C@@H]3COC[C@H]23</td>\n",
       "    </tr>\n",
       "    <tr>\n",
       "      <th>12</th>\n",
       "      <td>OC(=O)C1(CCCCCC1)C(=O)OCC2[C@@H]3COC[C@H]23</td>\n",
       "    </tr>\n",
       "  </tbody>\n",
       "</table>\n",
       "</div>"
      ],
      "text/plain": [
       "                                               smiles\n",
       "0                      C[C@@H](CC(=C)C)C(=O)OCC1CCNC1\n",
       "1         O(CC1[C@@H]2COC[C@H]12)C(C3=C(C)C=C(S3)F)=O\n",
       "2                   C[C@@H](CC(=C)C)C(=O)OCC1CCN(C)C1\n",
       "3           O(C(=O)CC1(CC1)C2CC2)CC3[C@@H]4COC[C@H]34\n",
       "4           O(C(=O)C1(CCl)CCCCC1)CC2[C@@H]3COC[C@H]23\n",
       "5              O(C(=O)CN1CCCCCC1)CC2[C@@H]3COC[C@H]23\n",
       "6     O(CC1[C@@H]2COC[C@H]12)C(C3=C[N](C(C)C)N=C3C)=O\n",
       "7           O(C(=O)C(=O)C1CCCCC1)CC2[C@@H]3COC[C@H]23\n",
       "8             CC(C)O[C@@H]1COC[C@H]1OC(C(C)CC(=C)C)=O\n",
       "9      O(CC1[C@@H]2COC[C@H]12)C(CC3(CC(OC)=O)CCCC3)=O\n",
       "10  O(CC1[C@@H]2COC[C@H]12)C(C3=CC=C(C(C)(C)C)[NH]...\n",
       "11  C[C@H](OC1=CC=C(C=C1)I)C(=O)OCC2[C@@H]3COC[C@H]23\n",
       "12        OC(=O)C1(CCCCCC1)C(=O)OCC2[C@@H]3COC[C@H]23"
      ]
     },
     "execution_count": 13,
     "metadata": {},
     "output_type": "execute_result"
    }
   ],
   "source": [
    "df"
   ]
  },
  {
   "cell_type": "code",
   "execution_count": null,
   "id": "95f8b36e-07f5-456c-92dd-bd8566d2583a",
   "metadata": {},
   "outputs": [],
   "source": []
  }
 ],
 "metadata": {
  "environment": {
   "kernel": "python3",
   "name": "common-cpu.m93",
   "type": "gcloud",
   "uri": "gcr.io/deeplearning-platform-release/base-cpu:m93"
  },
  "kernelspec": {
   "display_name": "Python 3",
   "language": "python",
   "name": "python3"
  },
  "language_info": {
   "codemirror_mode": {
    "name": "ipython",
    "version": 3
   },
   "file_extension": ".py",
   "mimetype": "text/x-python",
   "name": "python",
   "nbconvert_exporter": "python",
   "pygments_lexer": "ipython3",
   "version": "3.7.12"
  }
 },
 "nbformat": 4,
 "nbformat_minor": 5
}
