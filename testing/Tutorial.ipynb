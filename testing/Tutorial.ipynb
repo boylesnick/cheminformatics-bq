{
 "cells": [
  {
   "cell_type": "code",
   "execution_count": 35,
   "id": "555f7f3d-33af-49ff-bd3c-de82dbccb3a2",
   "metadata": {},
   "outputs": [
    {
     "name": "stderr",
     "output_type": "stream",
     "text": [
      "Query complete after 0.00s: 100%|██████████| 1/1 [00:00<00:00, 941.27query/s] \n"
     ]
    },
    {
     "data": {
      "text/html": [
       "<div>\n",
       "<style scoped>\n",
       "    .dataframe tbody tr th:only-of-type {\n",
       "        vertical-align: middle;\n",
       "    }\n",
       "\n",
       "    .dataframe tbody tr th {\n",
       "        vertical-align: top;\n",
       "    }\n",
       "\n",
       "    .dataframe thead th {\n",
       "        text-align: right;\n",
       "    }\n",
       "</style>\n",
       "<table border=\"1\" class=\"dataframe\">\n",
       "  <thead>\n",
       "    <tr style=\"text-align: right;\">\n",
       "      <th></th>\n",
       "    </tr>\n",
       "  </thead>\n",
       "  <tbody>\n",
       "  </tbody>\n",
       "</table>\n",
       "</div>"
      ],
      "text/plain": [
       "Empty DataFrame\n",
       "Columns: []\n",
       "Index: []"
      ]
     },
     "execution_count": 35,
     "metadata": {},
     "output_type": "execute_result"
    }
   ],
   "source": [
    "%%bigquery\n",
    "\n",
    "BEGIN\n",
    "\n",
    "CREATE SCHEMA sample_data;\n",
    "\n",
    "create or replace table `sample_data.smiles` as\n",
    "(\n",
    "SELECT product_smiles as smiles,\n",
    "from `nih-nci-cbiit-chem-prod.savi.plus` \n",
    "where rand() < 0.001\n",
    ");\n",
    "\n",
    "END"
   ]
  },
  {
   "cell_type": "code",
   "execution_count": 30,
   "id": "03f12245-8607-47e6-b841-095130f37d0e",
   "metadata": {},
   "outputs": [
    {
     "name": "stderr",
     "output_type": "stream",
     "text": [
      "Query complete after 0.00s: 100%|██████████| 1/1 [00:00<00:00, 735.97query/s] \n"
     ]
    },
    {
     "data": {
      "text/html": [
       "<div>\n",
       "<style scoped>\n",
       "    .dataframe tbody tr th:only-of-type {\n",
       "        vertical-align: middle;\n",
       "    }\n",
       "\n",
       "    .dataframe tbody tr th {\n",
       "        vertical-align: top;\n",
       "    }\n",
       "\n",
       "    .dataframe thead th {\n",
       "        text-align: right;\n",
       "    }\n",
       "</style>\n",
       "<table border=\"1\" class=\"dataframe\">\n",
       "  <thead>\n",
       "    <tr style=\"text-align: right;\">\n",
       "      <th></th>\n",
       "    </tr>\n",
       "  </thead>\n",
       "  <tbody>\n",
       "  </tbody>\n",
       "</table>\n",
       "</div>"
      ],
      "text/plain": [
       "Empty DataFrame\n",
       "Columns: []\n",
       "Index: []"
      ]
     },
     "execution_count": 30,
     "metadata": {},
     "output_type": "execute_result"
    }
   ],
   "source": [
    "%%bigquery\n",
    "\n",
    "CREATE SCHEMA exports;"
   ]
  },
  {
   "cell_type": "code",
   "execution_count": 38,
   "id": "94408989-4af3-402f-983e-10a2288b5689",
   "metadata": {},
   "outputs": [
    {
     "name": "stderr",
     "output_type": "stream",
     "text": [
      "Query complete after 0.00s: 100%|██████████| 3/3 [00:00<00:00, 1369.49query/s]                        \n"
     ]
    },
    {
     "data": {
      "text/html": [
       "<div>\n",
       "<style scoped>\n",
       "    .dataframe tbody tr th:only-of-type {\n",
       "        vertical-align: middle;\n",
       "    }\n",
       "\n",
       "    .dataframe tbody tr th {\n",
       "        vertical-align: top;\n",
       "    }\n",
       "\n",
       "    .dataframe thead th {\n",
       "        text-align: right;\n",
       "    }\n",
       "</style>\n",
       "<table border=\"1\" class=\"dataframe\">\n",
       "  <thead>\n",
       "    <tr style=\"text-align: right;\">\n",
       "      <th></th>\n",
       "    </tr>\n",
       "  </thead>\n",
       "  <tbody>\n",
       "  </tbody>\n",
       "</table>\n",
       "</div>"
      ],
      "text/plain": [
       "Empty DataFrame\n",
       "Columns: []\n",
       "Index: []"
      ]
     },
     "execution_count": 38,
     "metadata": {},
     "output_type": "execute_result"
    }
   ],
   "source": [
    "%%bigquery \n",
    "\n",
    "create or replace table `exports.savi_fp_json` as\n",
    "(\n",
    "SELECT smiles,\n",
    "`cheminformatics_test.rdkit_pattern_fingerprint_test`(smiles) as fingerprint_json\n",
    "from `sample_data.smiles` \n",
    ")"
   ]
  },
  {
   "cell_type": "code",
   "execution_count": null,
   "id": "b0c6f5c3-a45f-4561-afa2-d0b9df7ab291",
   "metadata": {},
   "outputs": [],
   "source": [
    "%%bigquery \n",
    "\n",
    "create or replace table `exports.savi_molecular_descriptors_json` as\n",
    "(\n",
    "SELECT smiles,\n",
    "`cheminformatics_test.rdkit_molecular_descriptors`(smiles) as molecular_descriptors_json\n",
    "from `sample_data.smiles` \n",
    ")"
   ]
  },
  {
   "cell_type": "code",
   "execution_count": 43,
   "id": "2455475c-07cd-4492-8c19-4c21d8af9895",
   "metadata": {},
   "outputs": [
    {
     "name": "stderr",
     "output_type": "stream",
     "text": [
      "Query complete after 0.00s: 100%|██████████| 3/3 [00:00<00:00, 1477.39query/s]                        \n"
     ]
    },
    {
     "data": {
      "text/html": [
       "<div>\n",
       "<style scoped>\n",
       "    .dataframe tbody tr th:only-of-type {\n",
       "        vertical-align: middle;\n",
       "    }\n",
       "\n",
       "    .dataframe tbody tr th {\n",
       "        vertical-align: top;\n",
       "    }\n",
       "\n",
       "    .dataframe thead th {\n",
       "        text-align: right;\n",
       "    }\n",
       "</style>\n",
       "<table border=\"1\" class=\"dataframe\">\n",
       "  <thead>\n",
       "    <tr style=\"text-align: right;\">\n",
       "      <th></th>\n",
       "    </tr>\n",
       "  </thead>\n",
       "  <tbody>\n",
       "  </tbody>\n",
       "</table>\n",
       "</div>"
      ],
      "text/plain": [
       "Empty DataFrame\n",
       "Columns: []\n",
       "Index: []"
      ]
     },
     "execution_count": 43,
     "metadata": {},
     "output_type": "execute_result"
    }
   ],
   "source": [
    "%%bigquery\n",
    "\n",
    "create or replace table `exports.savi_fp` as\n",
    "(\n",
    "SELECT smiles,\n",
    "FROM_HEX(JSON_VALUE(fingerprint_json, '$.fp_pattern_long_as_binary_hex'))  as fp_pattern_as_binary,\n",
    "FROM_HEX(JSON_VALUE(fingerprint_json, '$.fp_morgan_as_binary_hex'))  as fp_morgan_as_binary,\n",
    "CAST(JSON_VALUE(fingerprint_json, \"$.num_carbon\") as INT64) as num_carbon,\n",
    "CAST(JSON_VALUE(fingerprint_json, \"$.num_oxygen\") as INT64) as num_oxygen,\n",
    "CAST(JSON_VALUE(fingerprint_json, \"$.num_nitrogen\") as INT64) as num_nitrogen,\n",
    "CAST(JSON_VALUE(fingerprint_json, \"$.num_fluorine\") as INT64) as num_fluorine,\n",
    "CAST(JSON_VALUE(fingerprint_json, \"$.num_sulfur\") as INT64) as num_sulfur,\n",
    "from `exports.savi_fp_json` where fingerprint_json != \"\"\n",
    ")"
   ]
  },
  {
   "cell_type": "code",
   "execution_count": 45,
   "id": "960cb781-da9f-4209-9fa3-00dcf16d6238",
   "metadata": {},
   "outputs": [
    {
     "name": "stderr",
     "output_type": "stream",
     "text": [
      "Query complete after 0.00s: 100%|██████████| 5/5 [00:00<00:00, 2491.86query/s]                        \n"
     ]
    },
    {
     "data": {
      "text/html": [
       "<div>\n",
       "<style scoped>\n",
       "    .dataframe tbody tr th:only-of-type {\n",
       "        vertical-align: middle;\n",
       "    }\n",
       "\n",
       "    .dataframe tbody tr th {\n",
       "        vertical-align: top;\n",
       "    }\n",
       "\n",
       "    .dataframe thead th {\n",
       "        text-align: right;\n",
       "    }\n",
       "</style>\n",
       "<table border=\"1\" class=\"dataframe\">\n",
       "  <thead>\n",
       "    <tr style=\"text-align: right;\">\n",
       "      <th></th>\n",
       "    </tr>\n",
       "  </thead>\n",
       "  <tbody>\n",
       "  </tbody>\n",
       "</table>\n",
       "</div>"
      ],
      "text/plain": [
       "Empty DataFrame\n",
       "Columns: []\n",
       "Index: []"
      ]
     },
     "execution_count": 45,
     "metadata": {},
     "output_type": "execute_result"
    }
   ],
   "source": [
    "%%bigquery\n",
    "\n",
    "create or replace table `exports.savi_fp_clustered`\n",
    "cluster by num_carbon, num_nitrogen, num_oxygen, num_fluorine\n",
    "as \n",
    "SELECT * FROM `exports.savi_fp` "
   ]
  },
  {
   "cell_type": "code",
   "execution_count": 70,
   "id": "573e41e0-99ab-43d6-8d9a-65ce08370205",
   "metadata": {},
   "outputs": [
    {
     "name": "stderr",
     "output_type": "stream",
     "text": [
      "Query complete after 0.00s: 100%|██████████| 1/1 [00:00<00:00, 610.35query/s] \n",
      "Downloading: 100%|██████████| 1/1 [00:02<00:00,  2.20s/rows]\n"
     ]
    }
   ],
   "source": [
    "%%bigquery df\n",
    "\n",
    "CALL `cheminformatics_test.substructure_search`(\"C[C@@H](CC(=C)C)C(=O)OCC1[C@@H]2COC[C@H]12\");"
   ]
  },
  {
   "cell_type": "code",
   "execution_count": 71,
   "id": "c30c6e26-f4ab-4631-b567-34f3008dcd6e",
   "metadata": {},
   "outputs": [
    {
     "data": {
      "text/html": [
       "<div>\n",
       "<style scoped>\n",
       "    .dataframe tbody tr th:only-of-type {\n",
       "        vertical-align: middle;\n",
       "    }\n",
       "\n",
       "    .dataframe tbody tr th {\n",
       "        vertical-align: top;\n",
       "    }\n",
       "\n",
       "    .dataframe thead th {\n",
       "        text-align: right;\n",
       "    }\n",
       "</style>\n",
       "<table border=\"1\" class=\"dataframe\">\n",
       "  <thead>\n",
       "    <tr style=\"text-align: right;\">\n",
       "      <th></th>\n",
       "      <th>smiles</th>\n",
       "    </tr>\n",
       "  </thead>\n",
       "  <tbody>\n",
       "    <tr>\n",
       "      <th>0</th>\n",
       "      <td>C[C@@H](CC(=C)C)C(=O)OCC1[C@@H]2COC[C@H]12</td>\n",
       "    </tr>\n",
       "  </tbody>\n",
       "</table>\n",
       "</div>"
      ],
      "text/plain": [
       "                                       smiles\n",
       "0  C[C@@H](CC(=C)C)C(=O)OCC1[C@@H]2COC[C@H]12"
      ]
     },
     "execution_count": 71,
     "metadata": {},
     "output_type": "execute_result"
    }
   ],
   "source": [
    "df"
   ]
  },
  {
   "cell_type": "code",
   "execution_count": 72,
   "id": "b1caa01d-cfef-4ba5-8fa4-61faf9a417aa",
   "metadata": {},
   "outputs": [
    {
     "name": "stderr",
     "output_type": "stream",
     "text": [
      "Query complete after 0.00s: 100%|██████████| 1/1 [00:00<00:00, 759.56query/s] \n",
      "Downloading: 100%|██████████| 10/10 [00:01<00:00,  5.24rows/s]\n"
     ]
    }
   ],
   "source": [
    "%%bigquery df\n",
    "\n",
    "CALL `cheminformatics_test.morgan_similarity`(\"C[C@@H](CC(=C)C)C(=O)OCC1[C@@H]2COC[C@H]12\");"
   ]
  },
  {
   "cell_type": "code",
   "execution_count": 73,
   "id": "56239196-ed51-4d37-bed1-c7b7f0eef1f5",
   "metadata": {},
   "outputs": [
    {
     "data": {
      "text/html": [
       "<div>\n",
       "<style scoped>\n",
       "    .dataframe tbody tr th:only-of-type {\n",
       "        vertical-align: middle;\n",
       "    }\n",
       "\n",
       "    .dataframe tbody tr th {\n",
       "        vertical-align: top;\n",
       "    }\n",
       "\n",
       "    .dataframe thead th {\n",
       "        text-align: right;\n",
       "    }\n",
       "</style>\n",
       "<table border=\"1\" class=\"dataframe\">\n",
       "  <thead>\n",
       "    <tr style=\"text-align: right;\">\n",
       "      <th></th>\n",
       "      <th>smiles</th>\n",
       "    </tr>\n",
       "  </thead>\n",
       "  <tbody>\n",
       "    <tr>\n",
       "      <th>0</th>\n",
       "      <td>C[C@@H](CC(=C)C)C(=O)OCC1[C@@H]2COC[C@H]12</td>\n",
       "    </tr>\n",
       "    <tr>\n",
       "      <th>1</th>\n",
       "      <td>O(CC1[C@@H]2COC[C@H]12)C(C3CC(C)C3)=O</td>\n",
       "    </tr>\n",
       "    <tr>\n",
       "      <th>2</th>\n",
       "      <td>O(CC1CCC(=O)O1)C([C@@H](C)CC(=C)C)=O</td>\n",
       "    </tr>\n",
       "    <tr>\n",
       "      <th>3</th>\n",
       "      <td>O(CC1[C@@H]2COC[C@H]12)CCCCC(C)=O</td>\n",
       "    </tr>\n",
       "    <tr>\n",
       "      <th>4</th>\n",
       "      <td>C[C@@H]1CCC[C@H]1C(=O)OCC2[C@@H]3COC[C@H]23</td>\n",
       "    </tr>\n",
       "    <tr>\n",
       "      <th>5</th>\n",
       "      <td>NC(CC(F)(F)F)C(=O)OCC1[C@@H]2COC[C@H]12</td>\n",
       "    </tr>\n",
       "    <tr>\n",
       "      <th>6</th>\n",
       "      <td>O(CC1[C@@H]2COC[C@H]12)C(=O)C3CC[S](=O)(=O)C3</td>\n",
       "    </tr>\n",
       "    <tr>\n",
       "      <th>7</th>\n",
       "      <td>O(CC1[C@@H]2COC[C@H]12)C(CCOC3=CC=C(C)C=C3)=O</td>\n",
       "    </tr>\n",
       "    <tr>\n",
       "      <th>8</th>\n",
       "      <td>CC1(C)CCC=C1C(=O)OCC2[C@@H]3COC[C@H]23</td>\n",
       "    </tr>\n",
       "    <tr>\n",
       "      <th>9</th>\n",
       "      <td>O(CC1[C@@H]2COC[C@H]12)C(CC3=N[N](C(C)C)C=C3)=O</td>\n",
       "    </tr>\n",
       "  </tbody>\n",
       "</table>\n",
       "</div>"
      ],
      "text/plain": [
       "                                            smiles\n",
       "0       C[C@@H](CC(=C)C)C(=O)OCC1[C@@H]2COC[C@H]12\n",
       "1            O(CC1[C@@H]2COC[C@H]12)C(C3CC(C)C3)=O\n",
       "2             O(CC1CCC(=O)O1)C([C@@H](C)CC(=C)C)=O\n",
       "3                O(CC1[C@@H]2COC[C@H]12)CCCCC(C)=O\n",
       "4      C[C@@H]1CCC[C@H]1C(=O)OCC2[C@@H]3COC[C@H]23\n",
       "5          NC(CC(F)(F)F)C(=O)OCC1[C@@H]2COC[C@H]12\n",
       "6    O(CC1[C@@H]2COC[C@H]12)C(=O)C3CC[S](=O)(=O)C3\n",
       "7    O(CC1[C@@H]2COC[C@H]12)C(CCOC3=CC=C(C)C=C3)=O\n",
       "8           CC1(C)CCC=C1C(=O)OCC2[C@@H]3COC[C@H]23\n",
       "9  O(CC1[C@@H]2COC[C@H]12)C(CC3=N[N](C(C)C)C=C3)=O"
      ]
     },
     "execution_count": 73,
     "metadata": {},
     "output_type": "execute_result"
    }
   ],
   "source": [
    "df"
   ]
  },
  {
   "cell_type": "code",
   "execution_count": null,
   "id": "95f8b36e-07f5-456c-92dd-bd8566d2583a",
   "metadata": {},
   "outputs": [],
   "source": []
  }
 ],
 "metadata": {
  "environment": {
   "kernel": "python3",
   "name": "common-cpu.m93",
   "type": "gcloud",
   "uri": "gcr.io/deeplearning-platform-release/base-cpu:m93"
  },
  "kernelspec": {
   "display_name": "Python 3",
   "language": "python",
   "name": "python3"
  },
  "language_info": {
   "codemirror_mode": {
    "name": "ipython",
    "version": 3
   },
   "file_extension": ".py",
   "mimetype": "text/x-python",
   "name": "python",
   "nbconvert_exporter": "python",
   "pygments_lexer": "ipython3",
   "version": "3.7.12"
  }
 },
 "nbformat": 4,
 "nbformat_minor": 5
}
