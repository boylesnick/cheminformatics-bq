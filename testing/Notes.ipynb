{
 "cells": [
  {
   "cell_type": "markdown",
   "id": "c1b22b3a-b2c4-4f3f-8d09-a738ca39961e",
   "metadata": {},
   "source": [
    "Partition and Cluster Table"
   ]
  },
  {
   "cell_type": "code",
   "execution_count": null,
   "id": "df1d2811-638c-40ae-946b-787d1386659c",
   "metadata": {},
   "outputs": [],
   "source": [
    "%%bigquery\n",
    "\n",
    "BEGIN\n",
    "\n",
    "create or replace table `exports.savi_fp_partitioned_clustered`\n",
    "PARTITION BY RANGE_BUCKET(num_carbon, GENERATE_ARRAY(4,60,1))\n",
    "cluster by num_nitrogen, num_oxygen, num_fluorine, num_sulfur\n",
    "as \n",
    "(SELECT * FROM `exports.savi_fp`);\n",
    "\n",
    "END"
   ]
  }
 ],
 "metadata": {
  "environment": {
   "kernel": "python3",
   "name": "common-cpu.m93",
   "type": "gcloud",
   "uri": "gcr.io/deeplearning-platform-release/base-cpu:m93"
  },
  "kernelspec": {
   "display_name": "Python 3",
   "language": "python",
   "name": "python3"
  },
  "language_info": {
   "codemirror_mode": {
    "name": "ipython",
    "version": 3
   },
   "file_extension": ".py",
   "mimetype": "text/x-python",
   "name": "python",
   "nbconvert_exporter": "python",
   "pygments_lexer": "ipython3",
   "version": "3.7.12"
  }
 },
 "nbformat": 4,
 "nbformat_minor": 5
}
