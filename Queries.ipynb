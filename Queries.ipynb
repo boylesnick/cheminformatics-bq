{
 "cells": [
  {
   "cell_type": "markdown",
   "id": "b978dfbe-2a04-4ec1-85e7-a2db82fe3d8d",
   "metadata": {},
   "source": [
    "calculate additional descriptors. you can also calculate these in the call to rdkit_molecular_descriptors and add them to the json"
   ]
  },
  {
   "cell_type": "code",
   "execution_count": null,
   "id": "0515a4bd-b777-4edc-9e57-51637a65ff34",
   "metadata": {},
   "outputs": [],
   "source": [
    "%%timeit -n 1 -r 1\n",
    "\n",
    "%%bigquery \n",
    "\n",
    "create or replace table `exports.smiles_fp_mol_descriptors_json` as\n",
    "(\n",
    "SELECT smiles,\n",
    "`cheminformatics.rdkit_fingerprint`(smiles) as fingerprint_json,\n",
    "`cheminformatics.rdkit_molecular_descriptors`(smiles) as molecular_descriptors_json,\n",
    "`cheminformatics.rdkit_qed`(smiles) as rdkit_qed,\n",
    "`cheminformatics.rdkit_smiles_to_inchi`(smiles) as inchi,\n",
    "from `sample_data.smiles_bin_parted` \n",
    ")"
   ]
  },
  {
   "cell_type": "markdown",
   "id": "5b0afbd7-0668-4c4a-ba3c-b50d1f86d533",
   "metadata": {
    "tags": []
   },
   "source": [
    "Benchmark fingerprint creation across 10 million compounds"
   ]
  },
  {
   "cell_type": "code",
   "execution_count": null,
   "id": "fc485442-270c-436d-a08f-042609e66d12",
   "metadata": {},
   "outputs": [],
   "source": [
    "%%timeit -n 2 -r 2\n",
    "\n",
    "%%bigquery \n",
    "\n",
    "create or replace table `exports.smiles_fp_only_json` as\n",
    "(\n",
    "SELECT smiles,\n",
    "`cheminformatics.rdkit_fingerprint`(smiles) as fingerprint_json,\n",
    "from `sample_data.smiles_bin_parted` \n",
    ")"
   ]
  },
  {
   "cell_type": "markdown",
   "id": "b0f652e7-c1bb-4f12-8462-44b4699f105a",
   "metadata": {},
   "source": [
    "Benchmark fingerprint across 10 million compounds that haven't been partitioned"
   ]
  },
  {
   "cell_type": "code",
   "execution_count": null,
   "id": "98f21806-d9bd-48ee-b65f-47806c083ac9",
   "metadata": {
    "tags": []
   },
   "outputs": [],
   "source": [
    "%%timeit -n 1 -r 1\n",
    "\n",
    "%%bigquery \n",
    "\n",
    "create or replace table `exports.smiles_fp_only_json` as\n",
    "(\n",
    "SELECT smiles,\n",
    "`cheminformatics.rdkit_fingerprint`(smiles) as fingerprint_json,\n",
    "from `sample_data.smiles` \n",
    ")"
   ]
  },
  {
   "cell_type": "markdown",
   "id": "f8330bb1-4554-41de-a2c8-7f5db86e3f7a",
   "metadata": {},
   "source": [
    "Why do I have to partition the dataset to get the remote functions executing at scale? Is it something about the ncbi table I started with or the way I generated the original smiles dataset?"
   ]
  },
  {
   "cell_type": "markdown",
   "id": "48ad98c8-244c-4116-a560-0ecd1f4e145b",
   "metadata": {},
   "source": [
    "Benchmark fingerprint creation across 1 Billion compounds"
   ]
  },
  {
   "cell_type": "code",
   "execution_count": null,
   "id": "1cf31b9c-1efa-44ef-9c56-637baf795a70",
   "metadata": {},
   "outputs": [],
   "source": [
    "%%timeit -n 1 -r 1\n",
    "\n",
    "%%bigquery \n",
    "\n",
    "create or replace table `exports.savi_fp_only_json` as\n",
    "(\n",
    "SELECT product_smiles,\n",
    "`cheminformatics.rdkit_fingerprint`(product_smiles) as fingerprint_json,\n",
    "from `nih-nci-cbiit-chem-prod.savi.plus` \n",
    ")"
   ]
  },
  {
   "cell_type": "markdown",
   "id": "b6171fee-5c71-45a6-8643-a742fac618a1",
   "metadata": {},
   "source": [
    "First run of this actually took 13 minutes. The above 10 minute results are when the cloud functions are \"warm\". "
   ]
  },
  {
   "cell_type": "markdown",
   "id": "2747a90b-019c-41ac-a365-42bc946f9d69",
   "metadata": {},
   "source": [
    "## Bio Example"
   ]
  },
  {
   "cell_type": "code",
   "execution_count": null,
   "id": "5f80a1a0-c3a4-4bb1-8fcd-72cdcfb9eff0",
   "metadata": {},
   "outputs": [],
   "source": [
    "%%timeit -n 1 -r 5\n",
    "%%bigquery df \n",
    "\n",
    "SELECT \n",
    "`cheminformatics.biopython_sequence_translate`(\"gtatctagaagaaagaacgatgcggctcccacgtgcaaactctctaagaattacactgtttgtccatgagcgcgctacaatgatatcggtccctcgcctccacaaccgggacttgctttatgcgggctccagctgattgagacatagtgagcctcacaactgcgtcgccttcacgccgcagctggagcggtaaaagtttaactattactacagtcgggtcatgactttgtccaggactacgcctatgggtcc\") as amino_acid_literal,\n",
    "`cheminformatics.biopython_sequence_translate_to_stop`(\"gtatctagaagaaagaacgatgcggctcccacgtgcaaactctctaagaattacactgtttgtccatgagcgcgctacaatgatatcggtccctcgcctccacaaccgggacttgctttatgcgggctccagctgattgagacatagtgagcctcacaactgcgtcgccttcacgccgcagctggagcggtaaaagtttaactattactacagtcgggtcatgactttgtccaggactacgcctatgggtcc\") as amino_acid_translated;"
   ]
  },
  {
   "cell_type": "code",
   "execution_count": null,
   "id": "de9c4971-242a-4bea-a731-3fbc51d5d45f",
   "metadata": {},
   "outputs": [],
   "source": []
  }
 ],
 "metadata": {
  "environment": {
   "kernel": "python3",
   "name": "common-cpu.m93",
   "type": "gcloud",
   "uri": "gcr.io/deeplearning-platform-release/base-cpu:m93"
  },
  "kernelspec": {
   "display_name": "Python 3",
   "language": "python",
   "name": "python3"
  },
  "language_info": {
   "codemirror_mode": {
    "name": "ipython",
    "version": 3
   },
   "file_extension": ".py",
   "mimetype": "text/x-python",
   "name": "python",
   "nbconvert_exporter": "python",
   "pygments_lexer": "ipython3",
   "version": "3.7.12"
  }
 },
 "nbformat": 4,
 "nbformat_minor": 5
}
